{
 "cells": [
  {
   "cell_type": "markdown",
   "metadata": {},
   "source": [
    "## Ising model, Monte Carlo simulation - Metropolis algorithm\n",
    "    "
   ]
  },
  {
   "cell_type": "code",
   "execution_count": 176,
   "metadata": {},
   "outputs": [],
   "source": [
    "%matplotlib inline\n",
    "from __future__ import division\n",
    "import numpy as np\n",
    "from numpy.random import rand\n",
    "import matplotlib.pyplot as plt\n",
    "from IPython.display import display, Math, Latex\n"
   ]
  },
  {
   "cell_type": "code",
   "execution_count": 177,
   "metadata": {},
   "outputs": [
    {
     "name": "stdout",
     "output_type": "stream",
     "text": [
      "Total energy - Hamiltonian defined as:\n"
     ]
    },
    {
     "data": {
      "text/latex": [
       "$$H = -J_{ij}\\sum_{<ij>}^{}s_{i}s_{j} - h\\sum_{i}^{}s_{i}$$"
      ],
      "text/plain": [
       "<IPython.core.display.Math object>"
      ]
     },
     "metadata": {},
     "output_type": "display_data"
    },
    {
     "name": "stdout",
     "output_type": "stream",
     "text": [
      "Where: \n"
     ]
    },
    {
     "data": {
      "text/latex": [
       "$$J_{ij} - \\text{Coupling parameter between adjecent atoms}$$"
      ],
      "text/plain": [
       "<IPython.core.display.Math object>"
      ]
     },
     "metadata": {},
     "output_type": "display_data"
    },
    {
     "data": {
      "text/latex": [
       "$$h - \\text{External Fiels Strength}$$"
      ],
      "text/plain": [
       "<IPython.core.display.Math object>"
      ]
     },
     "metadata": {},
     "output_type": "display_data"
    },
    {
     "data": {
      "text/latex": [
       "$$s_{i, j} - \\text{spin of particle}$$"
      ],
      "text/plain": [
       "<IPython.core.display.Math object>"
      ]
     },
     "metadata": {},
     "output_type": "display_data"
    }
   ],
   "source": [
    "print(\"Total energy - Hamiltonian defined as:\")\n",
    "display(Math(r'$H = -J_{ij}\\sum_{<ij>}^{}s_{i}s_{j} - h\\sum_{i}^{}s_{i}'))\n",
    "print(\"Where: \")\n",
    "display(Math(r'$J_{ij} - \\text{Coupling parameter between adjecent atoms}'))\n",
    "display(Math(r'$h - \\text{External Fiels Strength}'))\n",
    "display(Math(r'$s_{i, j} - \\text{spin of particle}'))\n",
    "             "
   ]
  },
  {
   "cell_type": "code",
   "execution_count": 180,
   "metadata": {},
   "outputs": [],
   "source": [
    "# https://arxiv.org/pdf/0803.0217.pdf\n",
    "class IsingModel(object):\n",
    "    \n",
    "    def __init__(self,N):\n",
    "        self.N = N # grid size\n",
    "        self.J = 1.0\n",
    "        self.h = 0.0 # external field strength\n",
    "        \n",
    "        self.grid = 2*np.random.randint(2, size=(N,N))-1\n",
    "        self.E = 0.0\n",
    "        self.M = 0.0\n",
    "        self.invBolzConst = 1.0 / (1.38*10**(-23))\n",
    "        \n",
    "    def AcceptMove(self, dE, T):\n",
    "        '''\n",
    "        Calculate probability for acceptance of flip\n",
    "        '''\n",
    "        # exp(-dE/kT)\n",
    "        return np.exp((-dE * (float(1/T)*self.invBolzConst) ))\n",
    "    \n",
    "    def TotalEnergy(self, grid):\n",
    "        '''\n",
    "        Hamiltonian calculation\n",
    "        '''            \n",
    "        \n",
    "        energy = 0.0\n",
    "        N = grid.shape[0]\n",
    "        for i in range(len(grid)):\n",
    "            for j in range(len(grid)):\n",
    "                S = grid[i,j]\n",
    "                nb = grid[(i+1)%N, j] + grid[i,(j+1)%N] + grid[(i-1)%N, j] + grid[i,(j-1)%N]\n",
    "                energy += ((-nb*S)/2.0 - self.h*S)\n",
    "        return energy\n",
    "        \n",
    "    def MCStep(self, T):\n",
    "        '''\n",
    "        Monte Carlo simulation step\n",
    "        Choose random spot on lattice\n",
    "        IF dE <= 0:\n",
    "            YES:\n",
    "                Flip spin at choosen spot\n",
    "                Store Changes in observable\n",
    "                End\n",
    "            NO:\n",
    "                IS random < exp(-dE/kT):\n",
    "                YES:\n",
    "                    Flip spin at choosen spot\n",
    "                    Store Changes in observable\n",
    "                    End\n",
    "                NO: \n",
    "                    End\n",
    "        '''\n",
    "        E = 0\n",
    "        M = 0\n",
    "        a = np.random.randint(self.N)\n",
    "        b = np.random.randint(self.N)\n",
    "        new_grid = np.copy(self.grid)\n",
    "        s = self.grid[a,b]\n",
    "        s *= -1\n",
    "        new_grid[a, b] = s\n",
    "        new_energy = self.TotalEnergy(new_grid)\n",
    "        current_energy = self.TotalEnergy(self.grid)\n",
    "        dE = new_energy - current_energy\n",
    "        store = False\n",
    "        if dE <= 0:\n",
    "            self.grid[a,b] = s\n",
    "            store = True\n",
    "        elif np.random.random() < self.AcceptMove(dE, T):\n",
    "            self.grid[a,b] = s\n",
    "            store = True\n",
    "            \n",
    "        if store:\n",
    "            E = self.TotalEnergy(self.grid)\n",
    "            M = self.Magnetization()\n",
    "        \n",
    "        return E, M, self.grid\n",
    "\n",
    "    def Magnetization(self):\n",
    "        '''\n",
    "        Calculate magnetization of configuration\n",
    "        '''\n",
    "        \n",
    "        return np.sum(self.grid)"
   ]
  },
  {
   "cell_type": "code",
   "execution_count": 181,
   "metadata": {},
   "outputs": [],
   "source": [
    "def paint_grid(model, color):\n",
    "    fig, ax = plt.subplots()\n",
    "    ax.set_title(\"Snapshot of grid configuration\")\n",
    "    # im = ax.imshow(model.grid, cmap='YlGn')\n",
    "    im = ax.imshow(model.grid, cmap=color)\n",
    "    cbar = ax.figure.colorbar(im, ax=ax, )\n",
    "    cbar.ax.set_ylabel(\" \", rotation=-90, va=\"bottom\")\n",
    "    cbar.set_ticks([-1.0 , 1.0])\n",
    "    cbar.values = [-1.0, 1.0]\n",
    "    \n",
    "def plot_results(E, M, temperatures):\n",
    "    f = plt.figure(figsize=(18, 10)); # plot the calculated values    \n",
    "\n",
    "    sp =  f.add_subplot(1, 2, 1 );\n",
    "    plt.scatter(temperatures, E, s=50, marker='o', color='IndianRed')\n",
    "    plt.xlabel(\"Temperature (T)\", fontsize=20);\n",
    "    plt.ylabel(\"Energy \", fontsize=20);         plt.axis('tight');\n",
    "\n",
    "    sp =  f.add_subplot(1, 2, 2 );\n",
    "    plt.scatter(temperatures, np.absolute(M), s=50, marker='o', color='RoyalBlue')\n",
    "    plt.xlabel(\"Temperature (T)\", fontsize=20); \n",
    "    plt.ylabel(\"Magnetization \", fontsize=20);   plt.axis('tight');\n",
    "\n"
   ]
  },
  {
   "cell_type": "code",
   "execution_count": 208,
   "metadata": {},
   "outputs": [],
   "source": [
    "temperature_points = 20\n",
    "N = 5\n",
    "\n",
    "# Allow the system to equilibriate (typically takes ∼N**3 iterations)\n",
    "equilibration_steps = 1000   \n",
    "mc_steps = 10000     #  number of MC sweeps for calculation\n",
    "\n",
    "temperature_boundary = [1.0, 4.0]\n",
    "temperatures = np.linspace(temperature_boundary[0], temperature_boundary[1], temperature_points)\n",
    "n = 1.0/(mc_steps*N*N)\n",
    "# normalize by number of samples"
   ]
  },
  {
   "cell_type": "code",
   "execution_count": 209,
   "metadata": {},
   "outputs": [
    {
     "name": "stdout",
     "output_type": "stream",
     "text": [
      "Start MC simulation for 20 temperatures\n",
      "Number of equilibration steps: 1000 and simulation steps: 10000\n",
      "temperature:1 of 20\n",
      "temperature:2 of 20\n",
      "temperature:3 of 20\n",
      "temperature:4 of 20\n",
      "temperature:5 of 20\n",
      "temperature:6 of 20\n",
      "temperature:7 of 20\n",
      "temperature:8 of 20\n",
      "temperature:9 of 20\n",
      "temperature:10 of 20\n",
      "temperature:11 of 20\n",
      "temperature:12 of 20\n",
      "temperature:13 of 20\n",
      "temperature:14 of 20\n",
      "temperature:15 of 20\n",
      "temperature:16 of 20\n",
      "temperature:17 of 20\n",
      "temperature:18 of 20\n",
      "temperature:19 of 20\n",
      "temperature:20 of 20\n"
     ]
    }
   ],
   "source": [
    "E = []\n",
    "M = []\n",
    "# grids = []\n",
    "print(\"Start MC simulation for \" + str(len(temperatures)) + \" temperatures\")\n",
    "print(\"Number of equilibration steps: \" + str(equilibration_steps) + \" and simulation steps: \"+str(mc_steps))\n",
    "\n",
    "for idx, t in enumerate(temperatures):\n",
    "    en = 0\n",
    "    mag = 0\n",
    "    grid = 0\n",
    "    acc_M = 0\n",
    "    acc_E = 0\n",
    "    m = IsingModel(N)\n",
    "    \n",
    "    print(\"temperature:\" + str(idx+1) + \" of \" + str(len(temperatures) ))\n",
    "    for i in range(equilibration_steps):\n",
    "        m.MCStep(t)\n",
    "        \n",
    "    for i in range(mc_steps):\n",
    "        en, mag, grid = m.MCStep(t)\n",
    "        acc_E +=en\n",
    "        acc_M +=mag\n",
    "        \n",
    "    E.append(n*acc_E)\n",
    "    M.append(n*acc_M)"
   ]
  },
  {
   "cell_type": "code",
   "execution_count": 210,
   "metadata": {},
   "outputs": [
    {
     "data": {
      "image/png": "[encoded data removed]",
      "text/plain": [
       "<Figure size 1296x720 with 2 Axes>"
      ]
     },
     "metadata": {},
     "output_type": "display_data"
    }
   ],
   "source": [
    "plot_results(E,M,temperatures)"
   ]
  },
  {
   "cell_type": "code",
   "execution_count": null,
   "metadata": {},
   "outputs": [],
   "source": []
  }
 ],
 "metadata": {
  "kernelspec": {
   "display_name": "Python 3",
   "language": "python",
   "name": "python3"
  },
  "language_info": {
   "codemirror_mode": {
    "name": "ipython",
    "version": 3
   },
   "file_extension": ".py",
   "mimetype": "text/x-python",
   "name": "python",
   "nbconvert_exporter": "python",
   "pygments_lexer": "ipython3",
   "version": "3.6.4"
  }
 },
 "nbformat": 4,
 "nbformat_minor": 2
}

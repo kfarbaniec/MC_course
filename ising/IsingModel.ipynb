{
 "cells": [
  {
   "cell_type": "markdown",
   "metadata": {},
   "source": [
    "## Ising model, Monte Carlo simulation - Metropolis algorithm\n",
    "    "
   ]
  },
  {
   "cell_type": "code",
   "execution_count": 106,
   "metadata": {},
   "outputs": [],
   "source": [
    "%matplotlib inline\n",
    "from __future__ import division\n",
    "import numpy as np\n",
    "from numpy.random import rand\n",
    "import matplotlib.pyplot as plt\n",
    "from IPython.display import display, Math, Latex\n"
   ]
  },
  {
   "cell_type": "code",
   "execution_count": 107,
   "metadata": {},
   "outputs": [
    {
     "name": "stdout",
     "output_type": "stream",
     "text": [
      "Total energy - Hamiltonian defined as:\n"
     ]
    },
    {
     "data": {
      "text/latex": [
       "$$H = -J_{ij}\\sum_{<ij>}^{}s_{i}s_{j} - h\\sum_{i}^{}s_{i}$$"
      ],
      "text/plain": [
       "<IPython.core.display.Math object>"
      ]
     },
     "metadata": {},
     "output_type": "display_data"
    },
    {
     "name": "stdout",
     "output_type": "stream",
     "text": [
      "Where: \n"
     ]
    },
    {
     "data": {
      "text/latex": [
       "$$J_{ij} - \\text{Coupling parameter between adjecent atoms}$$"
      ],
      "text/plain": [
       "<IPython.core.display.Math object>"
      ]
     },
     "metadata": {},
     "output_type": "display_data"
    },
    {
     "data": {
      "text/latex": [
       "$$h - \\text{External Fiels Strength}$$"
      ],
      "text/plain": [
       "<IPython.core.display.Math object>"
      ]
     },
     "metadata": {},
     "output_type": "display_data"
    },
    {
     "data": {
      "text/latex": [
       "$$s_{i, j} - \\text{spin of particle}$$"
      ],
      "text/plain": [
       "<IPython.core.display.Math object>"
      ]
     },
     "metadata": {},
     "output_type": "display_data"
    }
   ],
   "source": [
    "print(\"Total energy - Hamiltonian defined as:\")\n",
    "display(Math(r'$H = -J_{ij}\\sum_{<ij>}^{}s_{i}s_{j} - h\\sum_{i}^{}s_{i}'))\n",
    "print(\"Where: \")\n",
    "display(Math(r'$J_{ij} - \\text{Coupling parameter between adjecent atoms}'))\n",
    "display(Math(r'$h - \\text{External Fiels Strength}'))\n",
    "display(Math(r'$s_{i, j} - \\text{spin of particle}'))\n",
    "             "
   ]
  },
  {
   "cell_type": "code",
   "execution_count": 175,
   "metadata": {},
   "outputs": [],
   "source": [
    "class IsingModel(object):\n",
    "    \n",
    "    def __init__(self,N):\n",
    "        self.N = N # grid size\n",
    "        self.J = 1.0\n",
    "        self.h = 0.0 # external field strength\n",
    "        \n",
    "        self.grid = 2*np.random.randint(2, size=(N,N))-1\n",
    "        self.E = 0.0\n",
    "        self.M = 0.0\n",
    "        self.invBolzConst = 1.0 / (1.38*10**(-23))\n",
    "        \n",
    "    def AcceptMove(self, dE, T):\n",
    "        '''Calculate probability for acceptance of move'''\n",
    "        return np.exp(- ((float(dE) * (float(1/T)) )))\n",
    "    \n",
    "    def TotalEnergy(self, grid):\n",
    "        ''' Hamiltonian calculation '''            \n",
    "        energy = 0.0\n",
    "        N = grid.shape[0]\n",
    "        for i in range(len(grid)):\n",
    "            for j in range(len(grid)):\n",
    "                S = grid[i,j]\n",
    "                nb = grid[(i+1)%N, j] + grid[i,(j+1)%N] + grid[(i-1)%N, j] + grid[i,(j-1)%N]\n",
    "                energy += ((-nb*S)/2.0 - self.h*S)\n",
    "        return energy\n",
    "        \n",
    "    def MCStep(self, T, equilibration=True):\n",
    "        '''Monte Carlo simulation step'''\n",
    "        # Flip of random spin\n",
    "        #\n",
    "        #\n",
    "        #    http://web.mit.edu/krish_s/www/files/ising_Model.pdf\n",
    "        #\n",
    "        #\n",
    "        #\n",
    "        #\n",
    "        a = np.random.randint(self.N)\n",
    "        b = np.random.randint(self.N)\n",
    "#         new_grid[a, b] *= -1\n",
    "        s = self.grid[a,b]\n",
    "        \n",
    "        if(cost < 0):\n",
    "            s*=-1\n",
    "            self.grid[a,b] = s\n",
    "            self.E = self.TotalEnergy(self.grid)\n",
    "            self.M = self.Magnetization()\n",
    "        elif np.random.random() < np.exp(-cost*(1.0/T)):\n",
    "            s *= -1\n",
    "            self.grid[a,b] = s\n",
    "            self.E = self.TotalEnergy(self.grid)\n",
    "            self.M = self.Magnetization()\n",
    "        else:\n",
    "            self.E = 0.0;\n",
    "            self.M = 0.0;\n",
    "\n",
    "        return self.grid\n",
    "\n",
    "    def Magnetization(self):\n",
    "        ''' Calculate magnetization of configuration'''\n",
    "        return np.sum(self.grid)/(self.N*self.N)"
   ]
  },
  {
   "cell_type": "code",
   "execution_count": 170,
   "metadata": {},
   "outputs": [],
   "source": [
    "def paint_grid(model, color):\n",
    "    fig, ax = plt.subplots()\n",
    "    ax.set_title(\"Snapshot of grid configuration\")\n",
    "    # im = ax.imshow(model.grid, cmap='YlGn')\n",
    "    im = ax.imshow(model.grid, cmap=color)\n",
    "    cbar = ax.figure.colorbar(im, ax=ax, )\n",
    "    cbar.ax.set_ylabel(\" \", rotation=-90, va=\"bottom\")\n",
    "    cbar.set_ticks([-1.0 , 1.0])\n",
    "    cbar.values = [-1.0, 1.0]\n",
    "    \n",
    "def plot_results(E, M, temperatures):\n",
    "    f = plt.figure(figsize=(18, 10)); # plot the calculated values    \n",
    "\n",
    "    sp =  f.add_subplot(1, 2, 1 );\n",
    "    plt.scatter(temperatures, E, s=50, marker='o', color='IndianRed')\n",
    "    plt.xlabel(\"Temperature (T)\", fontsize=20);\n",
    "    plt.ylabel(\"Energy \", fontsize=20);         plt.axis('tight');\n",
    "\n",
    "    sp =  f.add_subplot(1, 2, 2 );\n",
    "    plt.scatter(temperatures, np.absolute(M), s=50, marker='o', color='RoyalBlue')\n",
    "    plt.xlabel(\"Temperature (T)\", fontsize=20); \n",
    "    plt.ylabel(\"Magnetization \", fontsize=20);   plt.axis('tight');\n",
    "\n"
   ]
  },
  {
   "cell_type": "code",
   "execution_count": 171,
   "metadata": {},
   "outputs": [],
   "source": [
    "temperature_points = 10\n",
    "N = 10\n",
    "\n",
    "# Allow the system to equilibriate (typically takes ∼N**3 iterations)\n",
    "equilibration_steps = N**4   \n",
    "mc_steps = N**3      #  number of MC sweeps for calculation\n",
    "\n",
    "temperature_boundary = [0.1, 3.0]\n",
    "temperatures = np.linspace(temperature_boundary[0], temperature_boundary[1], temperature_points)\n",
    "n = 1.0/(mc_steps*N*N)\n",
    "# normalize by number of samples"
   ]
  },
  {
   "cell_type": "code",
   "execution_count": 172,
   "metadata": {},
   "outputs": [
    {
     "name": "stdout",
     "output_type": "stream",
     "text": [
      "iteration:1 of 10\n",
      "iteration:2 of 10\n",
      "iteration:3 of 10\n",
      "iteration:4 of 10\n",
      "iteration:5 of 10\n",
      "iteration:6 of 10\n",
      "iteration:7 of 10\n",
      "iteration:8 of 10\n",
      "iteration:9 of 10\n",
      "iteration:10 of 10\n"
     ]
    }
   ],
   "source": [
    "E = []\n",
    "M = []\n",
    "for idx, t in enumerate(temperatures):\n",
    "    m = IsingModel(N)\n",
    "    acc_E = 0.0\n",
    "    acc_M = 0.0\n",
    "    print(\"iteration:\" + str(idx+1) + \" of \" + str(len(temperatures) ))\n",
    "    for i in range(equilibration_steps):\n",
    "        m.MCStep(t, equilibration=True)\n",
    "        \n",
    "        \n",
    "    for i in range(mc_steps):\n",
    "        m.MCStep(t,equilibration=False)\n",
    "        acc_E +=m.E\n",
    "        acc_M +=m.M\n",
    "        \n",
    "    E.append(n*acc_E)\n",
    "    M.append(n*acc_M)"
   ]
  },
  {
   "cell_type": "code",
   "execution_count": 173,
   "metadata": {},
   "outputs": [
    {
     "data": {
      "image/png": "[encoded data removed]",
      "text/plain": [
       "<Figure size 1296x720 with 2 Axes>"
      ]
     },
     "metadata": {},
     "output_type": "display_data"
    }
   ],
   "source": [
    "plot_results(E,M,temperatures)"
   ]
  },
  {
   "cell_type": "code",
   "execution_count": null,
   "metadata": {},
   "outputs": [],
   "source": []
  }
 ],
 "metadata": {
  "kernelspec": {
   "display_name": "Python 3",
   "language": "python",
   "name": "python3"
  },
  "language_info": {
   "codemirror_mode": {
    "name": "ipython",
    "version": 3
   },
   "file_extension": ".py",
   "mimetype": "text/x-python",
   "name": "python",
   "nbconvert_exporter": "python",
   "pygments_lexer": "ipython3",
   "version": "3.6.4"
  }
 },
 "nbformat": 4,
 "nbformat_minor": 2
}

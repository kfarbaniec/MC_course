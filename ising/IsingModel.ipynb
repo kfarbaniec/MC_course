{
 "cells": [
  {
   "cell_type": "markdown",
   "metadata": {},
   "source": [
    "## Ising model, Monte Carlo simulation - Metropolis algorithm\n",
    "    "
   ]
  },
  {
   "cell_type": "code",
   "execution_count": 2,
   "metadata": {},
   "outputs": [],
   "source": [
    "%matplotlib inline\n",
    "from __future__ import division\n",
    "import numpy as np\n",
    "from numpy.random import rand\n",
    "import matplotlib.pyplot as plt"
   ]
  },
  {
   "cell_type": "code",
   "execution_count": 19,
   "metadata": {},
   "outputs": [],
   "source": [
    "class Grid(object):\n",
    "    \n",
    "    def __init__(self,N):\n",
    "        self.N = N\n",
    "        self.config = 2*np.random.randint(2, size=(N,N))-1\n",
    "        self.invBolzConst = 1.0 / (1.38*10**(-23))\n",
    "        \n",
    "    def mc_move(self, invT):\n",
    "        '''MC move using Metropolis Algorithm'''\n",
    "        N = self.N\n",
    "        for k in range(N):\n",
    "            for m in range(N):\n",
    "                x = np.random.randint(0, N)\n",
    "                y = np.random.randint(0, N)\n",
    "                s =  self.config[x, y]\n",
    "                nb = 0\n",
    "                nb += self.config[(x-1)%N,y]\n",
    "                nb += self.config[x,(y-1)%N]\n",
    "                nb += self.config[(x+1)%N,y]\n",
    "                nb += self.config[x,(y+1)%N]\n",
    "                cost = 2*s*nb\n",
    "                beta = self.invBolzConst*invT\n",
    "                if cost < 0:\n",
    "                    s *= -1\n",
    "                elif rand() < np.exp(-cost*beta):\n",
    "                    s *= -1\n",
    "                self.config[x, y] = s\n",
    "        \n",
    "    def equilibration(self, n_steps, iT):\n",
    "        for i in range(n_steps):         # equilibrate\n",
    "            self.mc_move(iT)           # Monte Carlo moves\n",
    "            \n",
    "    def energy(self):\n",
    "        ''' Calculate energy of given configuration'''\n",
    "        E = 0\n",
    "        N = self.N\n",
    "        for x in range(N):\n",
    "            for y in range(N):\n",
    "                s =  self.config[x, y]\n",
    "                nb = 0\n",
    "                nb += self.config[(x-1)%N,y]\n",
    "                nb += self.config[x,(y-1)%N]\n",
    "                nb += self.config[(x+1)%N,y]\n",
    "                nb += self.config[x,(y+1)%N]\n",
    "                E += -nb*s\n",
    "        return E/4\n",
    "    \n",
    "    def magnetization(self):\n",
    "        ''' Calculate magnetization of configuration'''\n",
    "        return np.sum(self.config)"
   ]
  },
  {
   "cell_type": "code",
   "execution_count": 31,
   "metadata": {},
   "outputs": [],
   "source": [
    "## change these parameters for a smaller (faster) simulation \n",
    "temperaturePoints = 40 \n",
    "gridSize = 12 \n",
    "equilibrationSteps = 2**10       \n",
    "mcSteps = 2**10       #  number of MC sweeps for calculation\n",
    "temperatureBoundary = [1.0, 4.0]\n",
    "temperatures = np.linspace(temperatureBoundary[0], temperatureBoundary[1], temperaturePoints); \n",
    "E, M = np.zeros(temperaturePoints), np.zeros(temperaturePoints)\n",
    "C, X = np.zeros(temperaturePoints), np.zeros(temperaturePoints)\n",
    "\n",
    "n1, n2  = 1.0/(gridSize*gridSize*mcSteps), 1.0/(gridSize*gridSize*mcSteps*mcSteps) \n",
    "# scale with system size and steps\n"
   ]
  },
  {
   "cell_type": "code",
   "execution_count": 32,
   "metadata": {},
   "outputs": [],
   "source": [
    "grid = Grid(gridSize)"
   ]
  },
  {
   "cell_type": "code",
   "execution_count": 33,
   "metadata": {},
   "outputs": [
    {
     "name": "stdout",
     "output_type": "stream",
     "text": [
      "[[-1  1  1  1 -1 -1 -1  1 -1 -1  1 -1]\n",
      " [ 1  1 -1 -1 -1  1  1 -1 -1  1 -1 -1]\n",
      " [-1  1 -1 -1  1 -1  1 -1 -1  1  1  1]\n",
      " [ 1  1 -1  1  1  1  1 -1  1  1  1 -1]\n",
      " [-1  1  1  1  1  1  1 -1  1 -1 -1  1]\n",
      " [-1 -1 -1  1 -1 -1 -1  1  1 -1  1 -1]\n",
      " [-1  1 -1  1 -1 -1  1 -1 -1  1 -1 -1]\n",
      " [ 1 -1  1  1 -1  1 -1 -1  1 -1  1 -1]\n",
      " [ 1 -1  1  1 -1 -1 -1 -1  1  1 -1  1]\n",
      " [-1  1 -1 -1  1  1 -1  1  1 -1 -1  1]\n",
      " [-1 -1  1 -1 -1 -1 -1  1  1  1  1  1]\n",
      " [-1  1 -1  1  1 -1  1  1 -1  1  1  1]]\n"
     ]
    }
   ],
   "source": [
    "print(grid.config)"
   ]
  },
  {
   "cell_type": "code",
   "execution_count": null,
   "metadata": {},
   "outputs": [],
   "source": []
  },
  {
   "cell_type": "code",
   "execution_count": null,
   "metadata": {},
   "outputs": [],
   "source": [
    "#----------------------------------------------------------------------\n",
    "#  MAIN PART OF THE CODE\n",
    "#----------------------------------------------------------------------\n",
    "for t in range(temperaturePoints):\n",
    "    E1 = M1 = E2 = M2 = 0\n",
    "    grid = Grid(gridSize)\n",
    "    invT=1.0/temperatures[t];\n",
    "    invT2=invT*invT;\n",
    "    \n",
    "    grid.equilibration(equilibrationSteps, invT)           # Monte Carlo moves\n",
    "\n",
    "    for i in range(mcSteps):\n",
    "        grid.mc_move(invT)           \n",
    "#         Ene = calcEnergy(config)     # calculate the energy\n",
    "#         Mag = calcMag(config)        # calculate the magnetisation\n",
    "        En = grid.energy()\n",
    "        Mag = grid.magnetization()\n",
    "        E1 = E1 + En\n",
    "        M1 = M1 + Mag\n",
    "        M2 = M2 + Mag*Mag \n",
    "        E2 = E2 + En*En\n",
    "\n",
    "    E[t] = n1*E1\n",
    "    M[t] = n1*M1\n",
    "    C[t] = (n1*E2 - n2*E1*E1)*invT2\n",
    "    X[t] = (n1*M2 - n2*M1*M1)*invT"
   ]
  },
  {
   "cell_type": "code",
   "execution_count": null,
   "metadata": {},
   "outputs": [],
   "source": [
    "f = plt.figure(figsize=(18, 10)); # plot the calculated values    \n",
    "\n",
    "sp =  f.add_subplot(2, 2, 1 );\n",
    "plt.scatter(temperatures, E, s=50, marker='o', color='IndianRed')\n",
    "plt.xlabel(\"Temperature (T)\", fontsize=20);\n",
    "plt.ylabel(\"Energy \", fontsize=20);         plt.axis('tight');\n",
    "\n",
    "sp =  f.add_subplot(2, 2, 2 );\n",
    "plt.scatter(temperatures, abs(M), s=50, marker='o', color='RoyalBlue')\n",
    "plt.xlabel(\"Temperature (T)\", fontsize=20); \n",
    "plt.ylabel(\"Magnetization \", fontsize=20);   plt.axis('tight');\n",
    "\n",
    "sp =  f.add_subplot(2, 2, 3 );\n",
    "plt.scatter(temperatures, C, s=50, marker='o', color='IndianRed')\n",
    "plt.xlabel(\"Temperature (T)\", fontsize=20);  \n",
    "plt.ylabel(\"Specific Heat \", fontsize=20);   plt.axis('tight');   \n",
    "\n",
    "sp =  f.add_subplot(2, 2, 4 );\n",
    "plt.scatter(temperatures, X, s=50, marker='o', color='RoyalBlue')\n",
    "plt.xlabel(\"Temperature (T)\", fontsize=20); \n",
    "plt.ylabel(\"Susceptibility\", fontsize=20);   plt.axis('tight');"
   ]
  },
  {
   "cell_type": "code",
   "execution_count": null,
   "metadata": {},
   "outputs": [],
   "source": [
    "\n"
   ]
  },
  {
   "cell_type": "code",
   "execution_count": null,
   "metadata": {},
   "outputs": [],
   "source": []
  }
 ],
 "metadata": {
  "kernelspec": {
   "display_name": "Python 3",
   "language": "python",
   "name": "python3"
  },
  "language_info": {
   "codemirror_mode": {
    "name": "ipython",
    "version": 3
   },
   "file_extension": ".py",
   "mimetype": "text/x-python",
   "name": "python",
   "nbconvert_exporter": "python",
   "pygments_lexer": "ipython3",
   "version": "3.6.5"
  }
 },
 "nbformat": 4,
 "nbformat_minor": 2
}
